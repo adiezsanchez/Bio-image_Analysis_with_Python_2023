{
 "cells": [
  {
   "cell_type": "markdown",
   "id": "directed-compensation",
   "metadata": {},
   "source": [
    "# Custom libraries\n",
    "When programming python for some time, you may be using again and again the same code. You could copy&paste it from jupyter notebook to jupyter notebook. However, notebooks are not meant to hold many functions. Notebooks are meant to show short and concise examples of code. Thus, in order to organize our code, we can put function we use more often into a python file, a custom library, and then import the functions.\n",
    "\n",
    "See also:\n",
    "* [The import system](https://docs.python.org/3/reference/import.html)\n",
    "\n",
    "Within the same folder, there exists a [my_library.py](my_library.py) file. It contains two functions. Let's import them and use them:"
   ]
  },
  {
   "cell_type": "code",
   "execution_count": 1,
   "id": "collaborative-leisure",
   "metadata": {},
   "outputs": [],
   "source": [
    "from my_library import square"
   ]
  },
  {
   "cell_type": "code",
   "execution_count": 2,
   "id": "compressed-chassis",
   "metadata": {},
   "outputs": [
    {
     "data": {
      "text/plain": [
       "25"
      ]
     },
     "execution_count": 2,
     "metadata": {},
     "output_type": "execute_result"
    }
   ],
   "source": [
    "square(5)"
   ]
  },
  {
   "cell_type": "code",
   "execution_count": 3,
   "id": "coastal-franklin",
   "metadata": {},
   "outputs": [],
   "source": [
    "from my_library import *"
   ]
  },
  {
   "cell_type": "code",
   "execution_count": 4,
   "id": "defensive-small",
   "metadata": {},
   "outputs": [
    {
     "data": {
      "text/plain": [
       "2.449489742783178"
      ]
     },
     "execution_count": 4,
     "metadata": {},
     "output_type": "execute_result"
    }
   ],
   "source": [
    "wuzzle(5)"
   ]
  },
  {
   "cell_type": "markdown",
   "id": "aggregate-invalid",
   "metadata": {},
   "source": [
    "When maintaining your own library of functions, make sure that the functions have reasonable names and useful docstrings. You may otherwise be confused about your own code later on.\n",
    "\n",
    "This is a good example:"
   ]
  },
  {
   "cell_type": "code",
   "execution_count": 5,
   "id": "catholic-afternoon",
   "metadata": {},
   "outputs": [
    {
     "name": "stdout",
     "output_type": "stream",
     "text": [
      "\n",
      "    Squares a number by multiplying it with itself  and returns its result.\n",
      "    \n"
     ]
    }
   ],
   "source": [
    "print(square.__doc__)"
   ]
  },
  {
   "cell_type": "markdown",
   "id": "textile-cricket",
   "metadata": {},
   "source": [
    "This is a bad example:"
   ]
  },
  {
   "cell_type": "code",
   "execution_count": 6,
   "id": "lesbian-candy",
   "metadata": {},
   "outputs": [
    {
     "name": "stdout",
     "output_type": "stream",
     "text": [
      "\n",
      "    The wuzzle function manipulates a number in a magic way and returns the result.\n",
      "    \n"
     ]
    }
   ],
   "source": [
    "print(wuzzle.__doc__)"
   ]
  },
  {
   "cell_type": "markdown",
   "id": "approved-violence",
   "metadata": {},
   "source": [
    "## Modifying code in custom libraries\n",
    "If you modify code in a python library file side-by-side with the code in a notebook, you may have restart your notebook after modifying the library file. You can do this in the menu `Kernel > Restart & Run All`."
   ]
  },
  {
   "cell_type": "markdown",
   "id": "liable-press",
   "metadata": {},
   "source": [
    "# Exercise\n",
    "Create an own library and write a function that can compute the [Euclidean distance](https://en.wikipedia.org/wiki/Euclidean_distance) between two points. The point coordinates are given as tuples. Hint: You will need a for-loop in this function that iterates pair-wise over the two coordinates:"
   ]
  },
  {
   "cell_type": "code",
   "execution_count": 7,
   "id": "worse-reggae",
   "metadata": {},
   "outputs": [],
   "source": [
    "p = (1.5, 6.4, 7.3)\n",
    "q = (3.4, 1.0, 0.9)"
   ]
  },
  {
   "cell_type": "code",
   "execution_count": 8,
   "id": "fdb0ebfd",
   "metadata": {},
   "outputs": [
    {
     "data": {
      "text/html": [
       "<div>\n",
       "<style scoped>\n",
       "    .dataframe tbody tr th:only-of-type {\n",
       "        vertical-align: middle;\n",
       "    }\n",
       "\n",
       "    .dataframe tbody tr th {\n",
       "        vertical-align: top;\n",
       "    }\n",
       "\n",
       "    .dataframe thead th {\n",
       "        text-align: right;\n",
       "    }\n",
       "</style>\n",
       "<table border=\"1\" class=\"dataframe\">\n",
       "  <thead>\n",
       "    <tr style=\"text-align: right;\">\n",
       "      <th></th>\n",
       "      <th>point_p</th>\n",
       "      <th>point_q</th>\n",
       "      <th>Euc_distance</th>\n",
       "    </tr>\n",
       "  </thead>\n",
       "  <tbody>\n",
       "    <tr>\n",
       "      <th>0</th>\n",
       "      <td>1.5</td>\n",
       "      <td>3.4</td>\n",
       "      <td>1.9</td>\n",
       "    </tr>\n",
       "    <tr>\n",
       "      <th>1</th>\n",
       "      <td>6.4</td>\n",
       "      <td>1.0</td>\n",
       "      <td>5.4</td>\n",
       "    </tr>\n",
       "    <tr>\n",
       "      <th>2</th>\n",
       "      <td>7.3</td>\n",
       "      <td>0.9</td>\n",
       "      <td>6.4</td>\n",
       "    </tr>\n",
       "  </tbody>\n",
       "</table>\n",
       "</div>"
      ],
      "text/plain": [
       "   point_p  point_q  Euc_distance\n",
       "0      1.5      3.4           1.9\n",
       "1      6.4      1.0           5.4\n",
       "2      7.3      0.9           6.4"
      ]
     },
     "execution_count": 8,
     "metadata": {},
     "output_type": "execute_result"
    }
   ],
   "source": [
    "from my_library import euclidean_distance_1d\n",
    "\n",
    "euclidean_distance_1d(p,q)"
   ]
  }
 ],
 "metadata": {
  "kernelspec": {
   "display_name": "Python 3 (ipykernel)",
   "language": "python",
   "name": "python3"
  },
  "language_info": {
   "codemirror_mode": {
    "name": "ipython",
    "version": 3
   },
   "file_extension": ".py",
   "mimetype": "text/x-python",
   "name": "python",
   "nbconvert_exporter": "python",
   "pygments_lexer": "ipython3",
   "version": "3.9.18"
  }
 },
 "nbformat": 4,
 "nbformat_minor": 5
}
