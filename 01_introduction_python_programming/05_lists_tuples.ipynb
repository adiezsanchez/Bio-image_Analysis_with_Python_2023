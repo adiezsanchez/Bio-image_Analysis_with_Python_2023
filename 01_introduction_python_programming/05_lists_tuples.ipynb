{
 "cells": [
  {
   "cell_type": "markdown",
   "id": "ranging-theology",
   "metadata": {},
   "source": [
    "# Lists and tuples\n",
    "Variables can also contain multiple entries of values. We call those lists and tuples. Some programmers also call them vectors or arrays; arrays of values. We already know one kind of array, strings. Strings are lists of characters.\n",
    "\n",
    "See also\n",
    "* [Arrays](https://physics.nyu.edu/pine/pymanual/html/chap3/chap3_arrays.html)\n",
    "* [Average is list](https://www.geeksforgeeks.org/find-average-list-python/)\n",
    "\n",
    "You can access elements in an array using square brackets `[]` which allow you access an element at a given index. Indexing starts at 0. Thus, the first element of an array is element number 0. The following string contains 5 characters and thus, element with index 0, 1, 2, 3 and 4 can be accessed:"
   ]
  },
  {
   "cell_type": "code",
   "execution_count": 1,
   "id": "divine-cartoon",
   "metadata": {},
   "outputs": [],
   "source": [
    "word = \"Hello\""
   ]
  },
  {
   "cell_type": "code",
   "execution_count": 2,
   "id": "mental-height",
   "metadata": {},
   "outputs": [
    {
     "data": {
      "text/plain": [
       "'H'"
      ]
     },
     "execution_count": 2,
     "metadata": {},
     "output_type": "execute_result"
    }
   ],
   "source": [
    "word[0]"
   ]
  },
  {
   "cell_type": "code",
   "execution_count": 3,
   "id": "medical-beverage",
   "metadata": {},
   "outputs": [
    {
     "data": {
      "text/plain": [
       "'e'"
      ]
     },
     "execution_count": 3,
     "metadata": {},
     "output_type": "execute_result"
    }
   ],
   "source": [
    "word[1]"
   ]
  },
  {
   "cell_type": "code",
   "execution_count": 4,
   "id": "collected-cleaning",
   "metadata": {},
   "outputs": [
    {
     "data": {
      "text/plain": [
       "'l'"
      ]
     },
     "execution_count": 4,
     "metadata": {},
     "output_type": "execute_result"
    }
   ],
   "source": [
    "word[2]"
   ]
  },
  {
   "cell_type": "code",
   "execution_count": 5,
   "id": "honest-tribe",
   "metadata": {},
   "outputs": [
    {
     "data": {
      "text/plain": [
       "'l'"
      ]
     },
     "execution_count": 5,
     "metadata": {},
     "output_type": "execute_result"
    }
   ],
   "source": [
    "word[3]"
   ]
  },
  {
   "cell_type": "code",
   "execution_count": 6,
   "id": "electronic-sauce",
   "metadata": {},
   "outputs": [
    {
     "data": {
      "text/plain": [
       "'o'"
      ]
     },
     "execution_count": 6,
     "metadata": {},
     "output_type": "execute_result"
    }
   ],
   "source": [
    "word[4]"
   ]
  },
  {
   "cell_type": "markdown",
   "id": "b12b60fa-fc21-4240-9f35-dc7ba84f050b",
   "metadata": {},
   "source": [
    "When accessing an index that is not in the list, we receive an error:"
   ]
  },
  {
   "cell_type": "code",
   "execution_count": 7,
   "id": "former-balloon",
   "metadata": {},
   "outputs": [
    {
     "ename": "IndexError",
     "evalue": "string index out of range",
     "output_type": "error",
     "traceback": [
      "\u001b[1;31m---------------------------------------------------------------------------\u001b[0m",
      "\u001b[1;31mIndexError\u001b[0m                                Traceback (most recent call last)",
      "Cell \u001b[1;32mIn[7], line 1\u001b[0m\n\u001b[1;32m----> 1\u001b[0m word[\u001b[39m5\u001b[39;49m]\n",
      "\u001b[1;31mIndexError\u001b[0m: string index out of range"
     ]
    }
   ],
   "source": [
    "word[5]"
   ]
  },
  {
   "cell_type": "markdown",
   "id": "robust-therapist",
   "metadata": {},
   "source": [
    "# Numeric lists\n",
    "Another type of array are numeric lists. They are common to store measurements of experiments for example:"
   ]
  },
  {
   "cell_type": "code",
   "execution_count": 9,
   "id": "critical-hearing",
   "metadata": {},
   "outputs": [],
   "source": [
    "measurements = [5.5, 6.3, 7.2, 8.0, 8.8]"
   ]
  },
  {
   "cell_type": "code",
   "execution_count": 10,
   "id": "presidential-brush",
   "metadata": {},
   "outputs": [
    {
     "data": {
      "text/plain": [
       "5.5"
      ]
     },
     "execution_count": 10,
     "metadata": {},
     "output_type": "execute_result"
    }
   ],
   "source": [
    "measurements[0]"
   ]
  },
  {
   "cell_type": "code",
   "execution_count": 11,
   "id": "sweet-munich",
   "metadata": {},
   "outputs": [
    {
     "data": {
      "text/plain": [
       "6.3"
      ]
     },
     "execution_count": 11,
     "metadata": {},
     "output_type": "execute_result"
    }
   ],
   "source": [
    "measurements[1]"
   ]
  },
  {
   "cell_type": "markdown",
   "id": "military-vision",
   "metadata": {},
   "source": [
    "Changing entries in lists works like this:"
   ]
  },
  {
   "cell_type": "code",
   "execution_count": 12,
   "id": "hairy-tomato",
   "metadata": {},
   "outputs": [],
   "source": [
    "measurements[1] = 25"
   ]
  },
  {
   "cell_type": "code",
   "execution_count": 13,
   "id": "usual-leeds",
   "metadata": {},
   "outputs": [
    {
     "data": {
      "text/plain": [
       "[5.5, 25, 7.2, 8.0, 8.8]"
      ]
     },
     "execution_count": 13,
     "metadata": {},
     "output_type": "execute_result"
    }
   ],
   "source": [
    "measurements"
   ]
  },
  {
   "cell_type": "markdown",
   "id": "antique-collins",
   "metadata": {},
   "source": [
    "You can also append entries to lists:"
   ]
  },
  {
   "cell_type": "code",
   "execution_count": 14,
   "id": "multiple-coffee",
   "metadata": {},
   "outputs": [
    {
     "data": {
      "text/plain": [
       "[5.5, 25, 7.2, 8.0, 8.8, 10.2]"
      ]
     },
     "execution_count": 14,
     "metadata": {},
     "output_type": "execute_result"
    }
   ],
   "source": [
    "measurements.append(10.2)\n",
    "measurements"
   ]
  },
  {
   "cell_type": "markdown",
   "id": "moved-consultation",
   "metadata": {},
   "source": [
    "Lists can also be reversed:"
   ]
  },
  {
   "cell_type": "code",
   "execution_count": 15,
   "id": "literary-designation",
   "metadata": {},
   "outputs": [
    {
     "data": {
      "text/plain": [
       "[10.2, 8.8, 8.0, 7.2, 25, 5.5]"
      ]
     },
     "execution_count": 15,
     "metadata": {},
     "output_type": "execute_result"
    }
   ],
   "source": [
    "measurements.reverse()\n",
    "measurements"
   ]
  },
  {
   "cell_type": "markdown",
   "id": "periodic-toyota",
   "metadata": {},
   "source": [
    "Just like strings, you can also concatenate arrays:"
   ]
  },
  {
   "cell_type": "code",
   "execution_count": 16,
   "id": "gorgeous-harbor",
   "metadata": {},
   "outputs": [],
   "source": [
    "more_measurements = [12.3, 14.5, 28.3]"
   ]
  },
  {
   "cell_type": "code",
   "execution_count": 17,
   "id": "latest-rachel",
   "metadata": {},
   "outputs": [
    {
     "data": {
      "text/plain": [
       "[10.2, 8.8, 8.0, 7.2, 25, 5.5, 12.3, 14.5, 28.3]"
      ]
     },
     "execution_count": 17,
     "metadata": {},
     "output_type": "execute_result"
    }
   ],
   "source": [
    "measurements + more_measurements"
   ]
  },
  {
   "cell_type": "markdown",
   "id": "tested-literature",
   "metadata": {},
   "source": [
    "When working with numeric lists, you can use some of python's built-in functions to do basic statistics on your measurements"
   ]
  },
  {
   "cell_type": "code",
   "execution_count": 18,
   "id": "entitled-incident",
   "metadata": {},
   "outputs": [
    {
     "data": {
      "text/plain": [
       "5.5"
      ]
     },
     "execution_count": 18,
     "metadata": {},
     "output_type": "execute_result"
    }
   ],
   "source": [
    "# minimum value in the list\n",
    "min(measurements)"
   ]
  },
  {
   "cell_type": "code",
   "execution_count": 19,
   "id": "checked-factor",
   "metadata": {},
   "outputs": [
    {
     "data": {
      "text/plain": [
       "25"
      ]
     },
     "execution_count": 19,
     "metadata": {},
     "output_type": "execute_result"
    }
   ],
   "source": [
    "# maximum value in the list\n",
    "max(measurements)"
   ]
  },
  {
   "cell_type": "code",
   "execution_count": 20,
   "id": "irish-space",
   "metadata": {},
   "outputs": [
    {
     "data": {
      "text/plain": [
       "64.7"
      ]
     },
     "execution_count": 20,
     "metadata": {},
     "output_type": "execute_result"
    }
   ],
   "source": [
    "# sum of all elements in the list\n",
    "sum(measurements)"
   ]
  },
  {
   "cell_type": "code",
   "execution_count": 21,
   "id": "established-school",
   "metadata": {},
   "outputs": [
    {
     "data": {
      "text/plain": [
       "6"
      ]
     },
     "execution_count": 21,
     "metadata": {},
     "output_type": "execute_result"
    }
   ],
   "source": [
    "# number of elements in the list\n",
    "len(measurements)"
   ]
  },
  {
   "cell_type": "code",
   "execution_count": 22,
   "id": "spectacular-blocking",
   "metadata": {},
   "outputs": [
    {
     "data": {
      "text/plain": [
       "10.783333333333333"
      ]
     },
     "execution_count": 22,
     "metadata": {},
     "output_type": "execute_result"
    }
   ],
   "source": [
    "# average of all elements in the list\n",
    "sum(measurements) / len(measurements)"
   ]
  },
  {
   "cell_type": "markdown",
   "id": "favorite-canvas",
   "metadata": {},
   "source": [
    "# Mixed type lists\n",
    "You can also store values of different types in a list"
   ]
  },
  {
   "cell_type": "code",
   "execution_count": 23,
   "id": "chief-people",
   "metadata": {},
   "outputs": [],
   "source": [
    "mixed_list = [22, 5.6, \"Cat\", 'Dog']"
   ]
  },
  {
   "cell_type": "code",
   "execution_count": 24,
   "id": "listed-shape",
   "metadata": {},
   "outputs": [
    {
     "data": {
      "text/plain": [
       "22"
      ]
     },
     "execution_count": 24,
     "metadata": {},
     "output_type": "execute_result"
    }
   ],
   "source": [
    "mixed_list[0]"
   ]
  },
  {
   "cell_type": "code",
   "execution_count": 25,
   "id": "exclusive-correction",
   "metadata": {},
   "outputs": [
    {
     "data": {
      "text/plain": [
       "'Dog'"
      ]
     },
     "execution_count": 25,
     "metadata": {},
     "output_type": "execute_result"
    }
   ],
   "source": [
    "mixed_list[3]"
   ]
  },
  {
   "cell_type": "code",
   "execution_count": 26,
   "id": "geographic-allah",
   "metadata": {},
   "outputs": [
    {
     "data": {
      "text/plain": [
       "int"
      ]
     },
     "execution_count": 26,
     "metadata": {},
     "output_type": "execute_result"
    }
   ],
   "source": [
    "type(mixed_list[0])"
   ]
  },
  {
   "cell_type": "code",
   "execution_count": 27,
   "id": "0a017de4-589b-4145-8715-8a9fd75d54f2",
   "metadata": {},
   "outputs": [
    {
     "data": {
      "text/plain": [
       "str"
      ]
     },
     "execution_count": 27,
     "metadata": {},
     "output_type": "execute_result"
    }
   ],
   "source": [
    "type(mixed_list[3])"
   ]
  },
  {
   "cell_type": "markdown",
   "id": "sublime-naples",
   "metadata": {},
   "source": [
    "# Tuples\n",
    "Tuples are lists which cannot be changed:"
   ]
  },
  {
   "cell_type": "code",
   "execution_count": 28,
   "id": "ambient-institution",
   "metadata": {},
   "outputs": [],
   "source": [
    "immutable = (4, 3, 7.8)"
   ]
  },
  {
   "cell_type": "code",
   "execution_count": 29,
   "id": "careful-shell",
   "metadata": {},
   "outputs": [
    {
     "data": {
      "text/plain": [
       "3"
      ]
     },
     "execution_count": 29,
     "metadata": {},
     "output_type": "execute_result"
    }
   ],
   "source": [
    "immutable[1]"
   ]
  },
  {
   "cell_type": "code",
   "execution_count": 30,
   "id": "confused-sympathy",
   "metadata": {},
   "outputs": [
    {
     "ename": "TypeError",
     "evalue": "'tuple' object does not support item assignment",
     "output_type": "error",
     "traceback": [
      "\u001b[1;31m---------------------------------------------------------------------------\u001b[0m",
      "\u001b[1;31mTypeError\u001b[0m                                 Traceback (most recent call last)",
      "Cell \u001b[1;32mIn[30], line 1\u001b[0m\n\u001b[1;32m----> 1\u001b[0m immutable[\u001b[39m1\u001b[39;49m] \u001b[39m=\u001b[39m \u001b[39m5\u001b[39m\n",
      "\u001b[1;31mTypeError\u001b[0m: 'tuple' object does not support item assignment"
     ]
    }
   ],
   "source": [
    "immutable[1] = 5"
   ]
  },
  {
   "cell_type": "markdown",
   "id": "civic-cameroon",
   "metadata": {},
   "source": [
    "You can convert tubles to lists and lists to tuples:"
   ]
  },
  {
   "cell_type": "code",
   "execution_count": 31,
   "id": "stone-continuity",
   "metadata": {},
   "outputs": [
    {
     "data": {
      "text/plain": [
       "tuple"
      ]
     },
     "execution_count": 31,
     "metadata": {},
     "output_type": "execute_result"
    }
   ],
   "source": [
    "type(immutable)"
   ]
  },
  {
   "cell_type": "code",
   "execution_count": 32,
   "id": "equal-european",
   "metadata": {},
   "outputs": [],
   "source": [
    "mutable = list(immutable)"
   ]
  },
  {
   "cell_type": "code",
   "execution_count": 33,
   "id": "turned-cemetery",
   "metadata": {},
   "outputs": [
    {
     "data": {
      "text/plain": [
       "list"
      ]
     },
     "execution_count": 33,
     "metadata": {},
     "output_type": "execute_result"
    }
   ],
   "source": [
    "type(mutable)"
   ]
  },
  {
   "cell_type": "code",
   "execution_count": 34,
   "id": "upset-bandwidth",
   "metadata": {},
   "outputs": [],
   "source": [
    "again_immutable = tuple(mutable)"
   ]
  },
  {
   "cell_type": "code",
   "execution_count": 35,
   "id": "tested-contrary",
   "metadata": {},
   "outputs": [
    {
     "data": {
      "text/plain": [
       "tuple"
      ]
     },
     "execution_count": 35,
     "metadata": {},
     "output_type": "execute_result"
    }
   ],
   "source": [
    "type(again_immutable)"
   ]
  },
  {
   "cell_type": "markdown",
   "id": "supreme-proceeding",
   "metadata": {},
   "source": [
    "# Exercise\n",
    "Take the `immutable` tuple above and turn it into a list. Append the number `24` to the list and turn the result into a tuple."
   ]
  },
  {
   "cell_type": "code",
   "execution_count": 36,
   "id": "ceb35456",
   "metadata": {},
   "outputs": [
    {
     "data": {
      "text/plain": [
       "(4, 3, 7.8)"
      ]
     },
     "execution_count": 36,
     "metadata": {},
     "output_type": "execute_result"
    }
   ],
   "source": [
    "immutable = (4, 3, 7.8)\n",
    "immutable"
   ]
  },
  {
   "cell_type": "code",
   "execution_count": 40,
   "id": "6faeb6c7",
   "metadata": {},
   "outputs": [
    {
     "name": "stdout",
     "output_type": "stream",
     "text": [
      "<class 'tuple'>\n",
      "(4, 3, 7.8, 24)\n"
     ]
    }
   ],
   "source": [
    "mutable = list(immutable)\n",
    "mutable.append(24)\n",
    "new_tuple = tuple(mutable)\n",
    "print(type(new_tuple))\n",
    "print(new_tuple)\n"
   ]
  },
  {
   "cell_type": "markdown",
   "id": "stable-stage",
   "metadata": {},
   "source": []
  }
 ],
 "metadata": {
  "kernelspec": {
   "display_name": "Python 3 (ipykernel)",
   "language": "python",
   "name": "python3"
  },
  "language_info": {
   "codemirror_mode": {
    "name": "ipython",
    "version": 3
   },
   "file_extension": ".py",
   "mimetype": "text/x-python",
   "name": "python",
   "nbconvert_exporter": "python",
   "pygments_lexer": "ipython3",
   "version": "3.9.18"
  }
 },
 "nbformat": 4,
 "nbformat_minor": 5
}
